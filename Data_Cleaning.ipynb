{
 "cells": [
  {
   "cell_type": "code",
   "execution_count": 1,
   "metadata": {},
   "outputs": [],
   "source": [
    "import pandas as pd\n",
    "import numpy as np\n",
    "pd.options.mode.chained_assignment = None  # default='warn'"
   ]
  },
  {
   "cell_type": "code",
   "execution_count": 2,
   "metadata": {},
   "outputs": [
    {
     "data": {
      "text/html": [
       "<div>\n",
       "<style scoped>\n",
       "    .dataframe tbody tr th:only-of-type {\n",
       "        vertical-align: middle;\n",
       "    }\n",
       "\n",
       "    .dataframe tbody tr th {\n",
       "        vertical-align: top;\n",
       "    }\n",
       "\n",
       "    .dataframe thead th {\n",
       "        text-align: right;\n",
       "    }\n",
       "</style>\n",
       "<table border=\"1\" class=\"dataframe\">\n",
       "  <thead>\n",
       "    <tr style=\"text-align: right;\">\n",
       "      <th></th>\n",
       "      <th>ID</th>\n",
       "      <th>Uniquecode</th>\n",
       "      <th>SenderName</th>\n",
       "      <th>senderPcode</th>\n",
       "      <th>SenderAddress</th>\n",
       "      <th>SenderMobile</th>\n",
       "      <th>ReceiverMobile</th>\n",
       "      <th>ReceiverName</th>\n",
       "      <th>ReceiverAddress</th>\n",
       "      <th>receiverPcode</th>\n",
       "      <th>...</th>\n",
       "      <th>LContractID</th>\n",
       "      <th>ServiceType</th>\n",
       "      <th>ReceiptDate</th>\n",
       "      <th>ReceiptTime</th>\n",
       "      <th>CreateDate</th>\n",
       "      <th>senderSSN</th>\n",
       "      <th>receiverSSN</th>\n",
       "      <th>PostNodeCode</th>\n",
       "      <th>EState</th>\n",
       "      <th>CityName</th>\n",
       "    </tr>\n",
       "  </thead>\n",
       "  <tbody>\n",
       "    <tr>\n",
       "      <th>0</th>\n",
       "      <td>13607966</td>\n",
       "      <td>43149033811401686544</td>\n",
       "      <td>اعواني</td>\n",
       "      <td>3515894931</td>\n",
       "      <td>استان سمنان-شهر سمنان-ميدان امام رضا-ميدان پير...</td>\n",
       "      <td>NaN</td>\n",
       "      <td>NaN</td>\n",
       "      <td>حسن زاده</td>\n",
       "      <td>استان ---- -پلاک 0-</td>\n",
       "      <td>3381787878</td>\n",
       "      <td>...</td>\n",
       "      <td>0</td>\n",
       "      <td>13</td>\n",
       "      <td>1395/03/13</td>\n",
       "      <td>10:00:52</td>\n",
       "      <td>2016-06-02 10:01:55.560</td>\n",
       "      <td>4569512763</td>\n",
       "      <td></td>\n",
       "      <td>43149</td>\n",
       "      <td>Semnan</td>\n",
       "      <td>Semnan</td>\n",
       "    </tr>\n",
       "    <tr>\n",
       "      <th>1</th>\n",
       "      <td>13608231</td>\n",
       "      <td>43149000911401686629</td>\n",
       "      <td>عبدالهي</td>\n",
       "      <td>3515894931</td>\n",
       "      <td>استان سمنان-شهر سمنان-ميدان امام رضا-ميدان پير...</td>\n",
       "      <td>NaN</td>\n",
       "      <td>NaN</td>\n",
       "      <td>عنبريان</td>\n",
       "      <td>استان ---- -پلاک 0-</td>\n",
       "      <td>9196891966</td>\n",
       "      <td>...</td>\n",
       "      <td>0</td>\n",
       "      <td>13</td>\n",
       "      <td>1395/03/13</td>\n",
       "      <td>10:02:37</td>\n",
       "      <td>2016-06-02 10:03:39.973</td>\n",
       "      <td>4569512763</td>\n",
       "      <td></td>\n",
       "      <td>43149</td>\n",
       "      <td>Semnan</td>\n",
       "      <td>Semnan</td>\n",
       "    </tr>\n",
       "    <tr>\n",
       "      <th>2</th>\n",
       "      <td>13609688</td>\n",
       "      <td>43149000011401686707</td>\n",
       "      <td>کاني ارا</td>\n",
       "      <td>3515894931</td>\n",
       "      <td>استان سمنان-شهر سمنان-ميدان امام رضا-ميدان پير...</td>\n",
       "      <td>NaN</td>\n",
       "      <td>NaN</td>\n",
       "      <td>پرسال</td>\n",
       "      <td>استان ---- -پلاک 0-</td>\n",
       "      <td>1573636519</td>\n",
       "      <td>...</td>\n",
       "      <td>0</td>\n",
       "      <td>13</td>\n",
       "      <td>1395/03/13</td>\n",
       "      <td>10:09:45</td>\n",
       "      <td>2016-06-02 10:10:48.303</td>\n",
       "      <td>4569512763</td>\n",
       "      <td></td>\n",
       "      <td>43149</td>\n",
       "      <td>Semnan</td>\n",
       "      <td>Semnan</td>\n",
       "    </tr>\n",
       "    <tr>\n",
       "      <th>3</th>\n",
       "      <td>13586540</td>\n",
       "      <td>43149000011201684792</td>\n",
       "      <td>زحمتکش</td>\n",
       "      <td>3515894931</td>\n",
       "      <td>استان سمنان-شهر سمنان-ميدان امام رضا-ميدان پير...</td>\n",
       "      <td>NaN</td>\n",
       "      <td>NaN</td>\n",
       "      <td>داستاني</td>\n",
       "      <td>استان تهران-شهر تهران-ميدان امام خميني-خيابان ...</td>\n",
       "      <td>1144934149</td>\n",
       "      <td>...</td>\n",
       "      <td>0</td>\n",
       "      <td>11</td>\n",
       "      <td>1395/03/13</td>\n",
       "      <td>08:08:27</td>\n",
       "      <td>2016-06-02 08:09:30.233</td>\n",
       "      <td>4569512763</td>\n",
       "      <td></td>\n",
       "      <td>43149</td>\n",
       "      <td>Semnan</td>\n",
       "      <td>Semnan</td>\n",
       "    </tr>\n",
       "    <tr>\n",
       "      <th>4</th>\n",
       "      <td>13587975</td>\n",
       "      <td>43149003512200040144</td>\n",
       "      <td>تعاون روستايي</td>\n",
       "      <td>3515894931</td>\n",
       "      <td>استان سمنان-شهر سمنان-ميدان امام رضا-ميدان پير...</td>\n",
       "      <td>NaN</td>\n",
       "      <td>NaN</td>\n",
       "      <td>بانک مسکن</td>\n",
       "      <td>استان سمنان-شهر سمنان-ميدان امام رضا-ميدان پير...</td>\n",
       "      <td>3515894931</td>\n",
       "      <td>...</td>\n",
       "      <td>0</td>\n",
       "      <td>23</td>\n",
       "      <td>1395/03/13</td>\n",
       "      <td>08:18:08</td>\n",
       "      <td>2016-06-02 08:19:10.700</td>\n",
       "      <td>4569512763</td>\n",
       "      <td></td>\n",
       "      <td>43149</td>\n",
       "      <td>Semnan</td>\n",
       "      <td>Semnan</td>\n",
       "    </tr>\n",
       "    <tr>\n",
       "      <th>...</th>\n",
       "      <td>...</td>\n",
       "      <td>...</td>\n",
       "      <td>...</td>\n",
       "      <td>...</td>\n",
       "      <td>...</td>\n",
       "      <td>...</td>\n",
       "      <td>...</td>\n",
       "      <td>...</td>\n",
       "      <td>...</td>\n",
       "      <td>...</td>\n",
       "      <td>...</td>\n",
       "      <td>...</td>\n",
       "      <td>...</td>\n",
       "      <td>...</td>\n",
       "      <td>...</td>\n",
       "      <td>...</td>\n",
       "      <td>...</td>\n",
       "      <td>...</td>\n",
       "      <td>...</td>\n",
       "      <td>...</td>\n",
       "      <td>...</td>\n",
       "    </tr>\n",
       "    <tr>\n",
       "      <th>660516</th>\n",
       "      <td>26671806</td>\n",
       "      <td>43227003513300442575</td>\n",
       "      <td>تامين اجتماعي</td>\n",
       "      <td>3618698617</td>\n",
       "      <td>شاهرود</td>\n",
       "      <td>NaN</td>\n",
       "      <td>NaN</td>\n",
       "      <td>تامين اجتماعي اداره کل</td>\n",
       "      <td>سمنان</td>\n",
       "      <td>3514655699</td>\n",
       "      <td>...</td>\n",
       "      <td>0</td>\n",
       "      <td>21</td>\n",
       "      <td>1395/08/19</td>\n",
       "      <td>10:22:54</td>\n",
       "      <td>2016-11-09 10:23:17.047</td>\n",
       "      <td>5209318699</td>\n",
       "      <td>5209318699</td>\n",
       "      <td>43227</td>\n",
       "      <td>Semnan</td>\n",
       "      <td>Shahrood</td>\n",
       "    </tr>\n",
       "    <tr>\n",
       "      <th>660517</th>\n",
       "      <td>26671807</td>\n",
       "      <td>43227003513300442680</td>\n",
       "      <td>تامين اجتماعي</td>\n",
       "      <td>3618698617</td>\n",
       "      <td>شاهرود</td>\n",
       "      <td>NaN</td>\n",
       "      <td>NaN</td>\n",
       "      <td>تامين اجتماعي</td>\n",
       "      <td>سمنان</td>\n",
       "      <td>3514655699</td>\n",
       "      <td>...</td>\n",
       "      <td>0</td>\n",
       "      <td>21</td>\n",
       "      <td>1395/08/19</td>\n",
       "      <td>10:22:54</td>\n",
       "      <td>2016-11-09 10:23:17.100</td>\n",
       "      <td>5209318699</td>\n",
       "      <td>5209318699</td>\n",
       "      <td>43227</td>\n",
       "      <td>Semnan</td>\n",
       "      <td>Shahrood</td>\n",
       "    </tr>\n",
       "    <tr>\n",
       "      <th>660518</th>\n",
       "      <td>26737159</td>\n",
       "      <td>43227003611300368705</td>\n",
       "      <td>بانک پارسيان</td>\n",
       "      <td>3616688133</td>\n",
       "      <td>شاهرود</td>\n",
       "      <td>NaN</td>\n",
       "      <td>NaN</td>\n",
       "      <td>حسن زماني</td>\n",
       "      <td>شاهرود</td>\n",
       "      <td>3615653164</td>\n",
       "      <td>...</td>\n",
       "      <td>0</td>\n",
       "      <td>13</td>\n",
       "      <td>1395/08/19</td>\n",
       "      <td>13:16:27</td>\n",
       "      <td>2016-11-09 13:16:50.703</td>\n",
       "      <td>5209318699</td>\n",
       "      <td>5209318699</td>\n",
       "      <td>43227</td>\n",
       "      <td>Semnan</td>\n",
       "      <td>Shahrood</td>\n",
       "    </tr>\n",
       "    <tr>\n",
       "      <th>660519</th>\n",
       "      <td>26737475</td>\n",
       "      <td>43227003611300368810</td>\n",
       "      <td>بانک پارسيان</td>\n",
       "      <td>3616688133</td>\n",
       "      <td>شاهرود</td>\n",
       "      <td>NaN</td>\n",
       "      <td>NaN</td>\n",
       "      <td>مسعود اخياني</td>\n",
       "      <td>شاهرود</td>\n",
       "      <td>3615653164</td>\n",
       "      <td>...</td>\n",
       "      <td>0</td>\n",
       "      <td>13</td>\n",
       "      <td>1395/08/19</td>\n",
       "      <td>13:17:37</td>\n",
       "      <td>2016-11-09 13:18:00.603</td>\n",
       "      <td>5209318699</td>\n",
       "      <td>5209318699</td>\n",
       "      <td>43227</td>\n",
       "      <td>Semnan</td>\n",
       "      <td>Shahrood</td>\n",
       "    </tr>\n",
       "    <tr>\n",
       "      <th>660520</th>\n",
       "      <td>26738129</td>\n",
       "      <td>43227003611300368914</td>\n",
       "      <td>بانک پارسيان</td>\n",
       "      <td>3616688133</td>\n",
       "      <td>شاهرود</td>\n",
       "      <td>NaN</td>\n",
       "      <td>NaN</td>\n",
       "      <td>راحله رستمي</td>\n",
       "      <td>شاهرود</td>\n",
       "      <td>3615653164</td>\n",
       "      <td>...</td>\n",
       "      <td>0</td>\n",
       "      <td>13</td>\n",
       "      <td>1395/08/19</td>\n",
       "      <td>13:19:53</td>\n",
       "      <td>2016-11-09 13:20:16.597</td>\n",
       "      <td>5209318699</td>\n",
       "      <td>5209318699</td>\n",
       "      <td>43227</td>\n",
       "      <td>Semnan</td>\n",
       "      <td>Shahrood</td>\n",
       "    </tr>\n",
       "  </tbody>\n",
       "</table>\n",
       "<p>660521 rows × 24 columns</p>\n",
       "</div>"
      ],
      "text/plain": [
       "              ID            Uniquecode      SenderName senderPcode  \\\n",
       "0       13607966  43149033811401686544         اعواني   3515894931   \n",
       "1       13608231  43149000911401686629        عبدالهي   3515894931   \n",
       "2       13609688  43149000011401686707       کاني ارا   3515894931   \n",
       "3       13586540  43149000011201684792         زحمتکش   3515894931   \n",
       "4       13587975  43149003512200040144  تعاون روستايي   3515894931   \n",
       "...          ...                   ...             ...         ...   \n",
       "660516  26671806  43227003513300442575   تامين اجتماعي  3618698617   \n",
       "660517  26671807  43227003513300442680   تامين اجتماعي  3618698617   \n",
       "660518  26737159  43227003611300368705    بانک پارسيان  3616688133   \n",
       "660519  26737475  43227003611300368810    بانک پارسيان  3616688133   \n",
       "660520  26738129  43227003611300368914    بانک پارسيان  3616688133   \n",
       "\n",
       "                                            SenderAddress SenderMobile  \\\n",
       "0       استان سمنان-شهر سمنان-ميدان امام رضا-ميدان پير...          NaN   \n",
       "1       استان سمنان-شهر سمنان-ميدان امام رضا-ميدان پير...          NaN   \n",
       "2       استان سمنان-شهر سمنان-ميدان امام رضا-ميدان پير...          NaN   \n",
       "3       استان سمنان-شهر سمنان-ميدان امام رضا-ميدان پير...          NaN   \n",
       "4       استان سمنان-شهر سمنان-ميدان امام رضا-ميدان پير...          NaN   \n",
       "...                                                   ...          ...   \n",
       "660516                                             شاهرود          NaN   \n",
       "660517                                             شاهرود          NaN   \n",
       "660518                                             شاهرود          NaN   \n",
       "660519                                             شاهرود          NaN   \n",
       "660520                                             شاهرود          NaN   \n",
       "\n",
       "       ReceiverMobile            ReceiverName  \\\n",
       "0                 NaN               حسن زاده    \n",
       "1                 NaN                عنبريان    \n",
       "2                 NaN                  پرسال    \n",
       "3                 NaN                داستاني    \n",
       "4                 NaN              بانک مسکن    \n",
       "...               ...                     ...   \n",
       "660516            NaN  تامين اجتماعي اداره کل   \n",
       "660517            NaN          تامين اجتماعي    \n",
       "660518            NaN               حسن زماني   \n",
       "660519            NaN            مسعود اخياني   \n",
       "660520            NaN             راحله رستمي   \n",
       "\n",
       "                                          ReceiverAddress receiverPcode  ...  \\\n",
       "0                                     استان ---- -پلاک 0-    3381787878  ...   \n",
       "1                                     استان ---- -پلاک 0-    9196891966  ...   \n",
       "2                                     استان ---- -پلاک 0-    1573636519  ...   \n",
       "3       استان تهران-شهر تهران-ميدان امام خميني-خيابان ...    1144934149  ...   \n",
       "4       استان سمنان-شهر سمنان-ميدان امام رضا-ميدان پير...    3515894931  ...   \n",
       "...                                                   ...           ...  ...   \n",
       "660516                                              سمنان    3514655699  ...   \n",
       "660517                                              سمنان    3514655699  ...   \n",
       "660518                                             شاهرود    3615653164  ...   \n",
       "660519                                             شاهرود    3615653164  ...   \n",
       "660520                                             شاهرود    3615653164  ...   \n",
       "\n",
       "        LContractID  ServiceType  ReceiptDate  ReceiptTime  \\\n",
       "0                 0           13   1395/03/13     10:00:52   \n",
       "1                 0           13   1395/03/13     10:02:37   \n",
       "2                 0           13   1395/03/13     10:09:45   \n",
       "3                 0           11   1395/03/13     08:08:27   \n",
       "4                 0           23   1395/03/13     08:18:08   \n",
       "...             ...          ...          ...          ...   \n",
       "660516            0           21   1395/08/19     10:22:54   \n",
       "660517            0           21   1395/08/19     10:22:54   \n",
       "660518            0           13   1395/08/19     13:16:27   \n",
       "660519            0           13   1395/08/19     13:17:37   \n",
       "660520            0           13   1395/08/19     13:19:53   \n",
       "\n",
       "                     CreateDate   senderSSN receiverSSN PostNodeCode  EState  \\\n",
       "0       2016-06-02 10:01:55.560  4569512763                    43149  Semnan   \n",
       "1       2016-06-02 10:03:39.973  4569512763                    43149  Semnan   \n",
       "2       2016-06-02 10:10:48.303  4569512763                    43149  Semnan   \n",
       "3       2016-06-02 08:09:30.233  4569512763                    43149  Semnan   \n",
       "4       2016-06-02 08:19:10.700  4569512763                    43149  Semnan   \n",
       "...                         ...         ...         ...          ...     ...   \n",
       "660516  2016-11-09 10:23:17.047  5209318699  5209318699        43227  Semnan   \n",
       "660517  2016-11-09 10:23:17.100  5209318699  5209318699        43227  Semnan   \n",
       "660518  2016-11-09 13:16:50.703  5209318699  5209318699        43227  Semnan   \n",
       "660519  2016-11-09 13:18:00.603  5209318699  5209318699        43227  Semnan   \n",
       "660520  2016-11-09 13:20:16.597  5209318699  5209318699        43227  Semnan   \n",
       "\n",
       "        CityName  \n",
       "0         Semnan  \n",
       "1         Semnan  \n",
       "2         Semnan  \n",
       "3         Semnan  \n",
       "4         Semnan  \n",
       "...          ...  \n",
       "660516  Shahrood  \n",
       "660517  Shahrood  \n",
       "660518  Shahrood  \n",
       "660519  Shahrood  \n",
       "660520  Shahrood  \n",
       "\n",
       "[660521 rows x 24 columns]"
      ]
     },
     "execution_count": 2,
     "metadata": {},
     "output_type": "execute_result"
    }
   ],
   "source": [
    "df=pd.read_csv(\"semnan.csv\", low_memory=False)\n",
    "df"
   ]
  },
  {
   "cell_type": "code",
   "execution_count": 3,
   "metadata": {},
   "outputs": [],
   "source": [
    "df.replace('          ','',inplace=True)\n",
    "df.replace(np.nan,'',inplace=True)"
   ]
  },
  {
   "cell_type": "markdown",
   "metadata": {},
   "source": [
    "# Extracting information from various columns"
   ]
  },
  {
   "cell_type": "code",
   "execution_count": 4,
   "metadata": {},
   "outputs": [
    {
     "name": "stdout",
     "output_type": "stream",
     "text": [
      "<class 'pandas.core.frame.DataFrame'>\n",
      "RangeIndex: 660521 entries, 0 to 660520\n",
      "Data columns (total 24 columns):\n",
      " #   Column           Non-Null Count   Dtype \n",
      "---  ------           --------------   ----- \n",
      " 0   ID               660521 non-null  int64 \n",
      " 1   Uniquecode       660521 non-null  object\n",
      " 2   SenderName       660521 non-null  object\n",
      " 3   senderPcode      660521 non-null  object\n",
      " 4   SenderAddress    660521 non-null  object\n",
      " 5   SenderMobile     660521 non-null  object\n",
      " 6   ReceiverMobile   660521 non-null  object\n",
      " 7   ReceiverName     660521 non-null  object\n",
      " 8   ReceiverAddress  660521 non-null  object\n",
      " 9   receiverPcode    660521 non-null  object\n",
      " 10  DestType         660521 non-null  int64 \n",
      " 11  SourceCode       660521 non-null  int64 \n",
      " 12  DestCode         660521 non-null  int64 \n",
      " 13  GContractID      660521 non-null  int64 \n",
      " 14  LContractID      660521 non-null  int64 \n",
      " 15  ServiceType      660521 non-null  int64 \n",
      " 16  ReceiptDate      660521 non-null  object\n",
      " 17  ReceiptTime      660521 non-null  object\n",
      " 18  CreateDate       660521 non-null  object\n",
      " 19  senderSSN        660521 non-null  object\n",
      " 20  receiverSSN      660521 non-null  object\n",
      " 21  PostNodeCode     660521 non-null  int64 \n",
      " 22  EState           660521 non-null  object\n",
      " 23  CityName         660521 non-null  object\n",
      "dtypes: int64(8), object(16)\n",
      "memory usage: 120.9+ MB\n"
     ]
    }
   ],
   "source": [
    "df.info()"
   ]
  },
  {
   "cell_type": "code",
   "execution_count": 5,
   "metadata": {},
   "outputs": [],
   "source": [
    "#df.describe()"
   ]
  },
  {
   "cell_type": "code",
   "execution_count": 6,
   "metadata": {},
   "outputs": [
    {
     "data": {
      "text/plain": [
       "count     660521\n",
       "unique        20\n",
       "top       Semnan\n",
       "freq      360267\n",
       "Name: CityName, dtype: object"
      ]
     },
     "execution_count": 6,
     "metadata": {},
     "output_type": "execute_result"
    }
   ],
   "source": [
    "df['CityName'].describe()"
   ]
  },
  {
   "cell_type": "code",
   "execution_count": 7,
   "metadata": {},
   "outputs": [],
   "source": [
    "#df.mode()"
   ]
  },
  {
   "cell_type": "markdown",
   "metadata": {},
   "source": [
    "# Data Validation (Validating the data values of each column)"
   ]
  },
  {
   "cell_type": "code",
   "execution_count": 8,
   "metadata": {},
   "outputs": [
    {
     "data": {
      "text/plain": [
       "True"
      ]
     },
     "execution_count": 8,
     "metadata": {},
     "output_type": "execute_result"
    }
   ],
   "source": [
    "df.ID.is_unique"
   ]
  },
  {
   "cell_type": "code",
   "execution_count": 9,
   "metadata": {},
   "outputs": [
    {
     "data": {
      "text/plain": [
       "True"
      ]
     },
     "execution_count": 9,
     "metadata": {},
     "output_type": "execute_result"
    }
   ],
   "source": [
    "df.Uniquecode.is_unique"
   ]
  },
  {
   "cell_type": "code",
   "execution_count": 10,
   "metadata": {},
   "outputs": [
    {
     "data": {
      "text/plain": [
       "Semnan         360267\n",
       "Shahrood       122705\n",
       "Damghan         64091\n",
       "Garmsar         44954\n",
       "Eyvanky         22491\n",
       "Mahdishahr      18777\n",
       "Bastam           7107\n",
       "Sorkhe           6167\n",
       "Miyami           5282\n",
       "Amiriye          1959\n",
       "Aradan           1930\n",
       "Shahmizad        1765\n",
       "Biyarjmand       1337\n",
       "Dibaj            1049\n",
       "Majan             268\n",
       "Kalate khij       184\n",
       "Nardin             99\n",
       "Darjzin            32\n",
       "Keyrabad           30\n",
       "Kohanabad          27\n",
       "Name: CityName, dtype: int64"
      ]
     },
     "execution_count": 10,
     "metadata": {},
     "output_type": "execute_result"
    }
   ],
   "source": [
    "df.CityName.value_counts()"
   ]
  },
  {
   "cell_type": "code",
   "execution_count": 11,
   "metadata": {},
   "outputs": [
    {
     "name": "stdout",
     "output_type": "stream",
     "text": [
      "32934 is true and  20 is false\n"
     ]
    }
   ],
   "source": [
    "#The valid values for a mobile number should consist of 10 digits and start with 9 in this dataset\n",
    "d=df[df['ReceiverMobile']!='']\n",
    "d.reset_index(inplace=True , drop=True)\n",
    "\n",
    "t=0\n",
    "f=0\n",
    "list_ = []\n",
    "\n",
    "for i in range(len(d)):\n",
    "    if (d['ReceiverMobile'][i].isnumeric()) and (len(str(int(d['ReceiverMobile'][i])))==10) :\n",
    "        \n",
    "        if (str(int(d['ReceiverMobile'][i]))[0]=='9'):\n",
    "            t=t+1\n",
    "        else:\n",
    "            list_.append(d['ID'][i])\n",
    "            f=f+1\n",
    "    else: \n",
    "        list_.append(d['ID'][i])\n",
    "        f=f+1\n",
    "        \n",
    "df['ReceiverMobile'].loc[df['ID'].isin(list_)] = ''\n",
    "print(t,\"is true and \",f,\"is false\")"
   ]
  },
  {
   "cell_type": "code",
   "execution_count": 12,
   "metadata": {},
   "outputs": [
    {
     "name": "stdout",
     "output_type": "stream",
     "text": [
      "42718 is true and  27 is false\n"
     ]
    }
   ],
   "source": [
    "#The valid values for a mobile number should consist of 10 digits and start with 9 in this dataset\n",
    "d=df[df['SenderMobile']!='']\n",
    "d.reset_index(inplace=True , drop=True)\n",
    "\n",
    "t=0\n",
    "f=0\n",
    "list_ = []\n",
    "\n",
    "for i in range(len(d)):\n",
    "    if (d['SenderMobile'][i].isnumeric()) and (len(str(int(d['SenderMobile'][i])))==10) :\n",
    "        \n",
    "        if (str(int(d['SenderMobile'][i]))[0]=='9'):\n",
    "            t=t+1\n",
    "        else:\n",
    "            list_.append(d['ID'][i])\n",
    "            f=f+1\n",
    "    else: \n",
    "        list_.append(d['ID'][i])\n",
    "        f=f+1\n",
    "        \n",
    "df['SenderMobile'].loc[df['ID'].isin(list_)] = ''\n",
    "print(t,\"is true and \",f,\"is false\")"
   ]
  },
  {
   "cell_type": "code",
   "execution_count": 13,
   "metadata": {},
   "outputs": [
    {
     "name": "stdout",
     "output_type": "stream",
     "text": [
      "653283 is true and  331 is false\n"
     ]
    }
   ],
   "source": [
    "#The valid values for a Pcode should consist of 10 digits in this dataset\n",
    "d=df[df['senderPcode']!='']\n",
    "d.reset_index(inplace=True , drop=True)\n",
    "\n",
    "t=0\n",
    "f=0\n",
    "list_ = []\n",
    "\n",
    "for i in range(len(d)):\n",
    "    if (d['senderPcode'][i].isnumeric()) and (len(str(int(d['senderPcode'][i])))==10) :\n",
    "        t=t+1\n",
    "        \n",
    "    else: \n",
    "        list_.append(d['ID'][i])\n",
    "        f=f+1\n",
    "        \n",
    "df['senderPcode'].loc[df['ID'].isin(list_)] = ''\n",
    "print(t,\"is true and \",f,\"is false\")"
   ]
  },
  {
   "cell_type": "code",
   "execution_count": 14,
   "metadata": {},
   "outputs": [
    {
     "name": "stdout",
     "output_type": "stream",
     "text": [
      "632101 is true and  629 is false\n"
     ]
    }
   ],
   "source": [
    "#The valid values for a Pcode should consist of 10 digits in this dataset\n",
    "d=df[df['receiverPcode']!='']\n",
    "d.reset_index(inplace=True , drop=True)\n",
    "\n",
    "t=0\n",
    "f=0\n",
    "list_ = []\n",
    "\n",
    "for i in range(len(d)):\n",
    "    if (d['receiverPcode'][i].isnumeric()) and (len(str(int(d['receiverPcode'][i])))==10) :\n",
    "        t=t+1\n",
    "        \n",
    "    else: \n",
    "        list_.append(d['ID'][i])\n",
    "        f=f+1\n",
    "        \n",
    "df['receiverPcode'].loc[df['ID'].isin(list_)] = ''\n",
    "print(t,\"is true and \",f,\"is false\")"
   ]
  },
  {
   "cell_type": "code",
   "execution_count": 15,
   "metadata": {},
   "outputs": [
    {
     "name": "stdout",
     "output_type": "stream",
     "text": [
      "606035 is true and  42637 is false\n"
     ]
    }
   ],
   "source": [
    "#The valid values for a SSN should consist of 10 digits in this dataset\n",
    "d=df[df['senderSSN']!='']\n",
    "d.reset_index(inplace=True , drop=True)\n",
    "\n",
    "t=0\n",
    "f=0\n",
    "list_ = []\n",
    "\n",
    "for i in range(len(d)):\n",
    "    if (d['senderSSN'][i].isnumeric()) and (len(str(int(d['senderSSN'][i])))==10) :\n",
    "        t=t+1\n",
    "        \n",
    "    else: \n",
    "        list_.append(d['ID'][i])\n",
    "        f=f+1\n",
    "        \n",
    "df['senderSSN'].loc[df['ID'].isin(list_)] = ''\n",
    "print(t,\"is true and \",f,\"is false\")"
   ]
  },
  {
   "cell_type": "code",
   "execution_count": 16,
   "metadata": {},
   "outputs": [
    {
     "name": "stdout",
     "output_type": "stream",
     "text": [
      "560753 is true and  40870 is false\n"
     ]
    }
   ],
   "source": [
    "#The valid values for a SSN should consist of 10 digits in this dataset\n",
    "d=df[df['receiverSSN']!='']\n",
    "d.reset_index(inplace=True , drop=True)\n",
    "\n",
    "t=0\n",
    "f=0\n",
    "list_ = []\n",
    "\n",
    "for i in range(len(d)):\n",
    "    if (d['receiverSSN'][i].isnumeric()) and (len(str(int(d['receiverSSN'][i])))==10) :\n",
    "        t=t+1\n",
    "        \n",
    "    else: \n",
    "        list_.append(d['ID'][i])\n",
    "        f=f+1\n",
    "        \n",
    "df['receiverSSN'].loc[df['ID'].isin(list_)] = ''\n",
    "print(t,\"is true and \",f,\"is false\")"
   ]
  },
  {
   "cell_type": "code",
   "execution_count": 17,
   "metadata": {},
   "outputs": [
    {
     "name": "stdout",
     "output_type": "stream",
     "text": [
      "660521 is true and  0 is false\n"
     ]
    }
   ],
   "source": [
    "#The valid values for a Date should be between 1395/1/1 and 1395/12/29 in this dataset\n",
    "import datetime\n",
    "\n",
    "def isDateFormat(q,w,e):\n",
    "    \n",
    "    if((q==1395) & (0<w<7) & (0<e<32)):\n",
    "        return 1\n",
    "    elif((q==1395) & (6<w<12) & (0<e<31)):\n",
    "        return 1\n",
    "    elif((q==1395) & (w==12) & (0<e<30)):\n",
    "        return 1\n",
    "    else: return 0\n",
    "        \n",
    "        \n",
    "\n",
    "d=df[df['ReceiptDate']!='']\n",
    "d.reset_index(inplace=True , drop=True)\n",
    "\n",
    "t=0\n",
    "f=0\n",
    "for i in range(len(d)):\n",
    "    o=d['ReceiptDate'][i].split('/')\n",
    "    \n",
    "    q=int(o[0])\n",
    "    w=int(o[1])\n",
    "    e=int(o[2])\n",
    "    \n",
    "    b=isDateFormat(q,w,e)\n",
    "    \n",
    "    if(b==1):\n",
    "        t=t+1\n",
    "    else: f=f+1\n",
    "        \n",
    "        \n",
    "        \n",
    "print(t,\"is true and \",f,\"is false\")"
   ]
  },
  {
   "cell_type": "code",
   "execution_count": 18,
   "metadata": {},
   "outputs": [
    {
     "name": "stdout",
     "output_type": "stream",
     "text": [
      "660521 is true and  0 is false\n"
     ]
    }
   ],
   "source": [
    "import time\n",
    "\n",
    "def isTimeFormat(input):\n",
    "    try:\n",
    "        time.strptime(input,'%H:%M:%S')\n",
    "        return 1\n",
    "    except ValueError:\n",
    "        return 0\n",
    "    \n",
    "    \n",
    "\n",
    "d=df[df['ReceiptTime']!='']\n",
    "d.reset_index(inplace=True , drop=True)\n",
    "\n",
    "t=0\n",
    "f=0\n",
    "for i in range(len(d)):\n",
    "    \n",
    "    g=isTimeFormat(d['ReceiptTime'][i])\n",
    "    \n",
    "    if(g==1):\n",
    "        t=t+1\n",
    "    else: f=f+1\n",
    "\n",
    "print(t,\"is true and \",f,\"is false\")"
   ]
  },
  {
   "cell_type": "code",
   "execution_count": 19,
   "metadata": {},
   "outputs": [
    {
     "name": "stdout",
     "output_type": "stream",
     "text": [
      "660521 is true and  0 is false\n"
     ]
    }
   ],
   "source": [
    "import datetime\n",
    "import time\n",
    "\n",
    "def isTimeFormat(input):\n",
    "    try:\n",
    "        time.strptime(input,'%H:%M:%S')\n",
    "        return 1\n",
    "    except ValueError:\n",
    "        return 0\n",
    "    \n",
    "def isDateFormat(input):\n",
    "    try:\n",
    "        datetime.datetime.strptime(input,'%Y-%m-%d')\n",
    "        return 1\n",
    "    except ValueError:\n",
    "        return 0\n",
    "    \n",
    "\n",
    "d=df['CreateDate'][df['CreateDate']!='']\n",
    "t=0\n",
    "f=0\n",
    "for i in d:\n",
    "    a=i.split()\n",
    "    b=isDateFormat(a[0])\n",
    "    c=a[1]\n",
    "    c=c.split('.')\n",
    "    g=isTimeFormat(c[0])\n",
    "    \n",
    "    if(b==1 & g==1):\n",
    "        t=t+1\n",
    "    else: f=f+1\n",
    "        \n",
    "print(t,\"is true and \",f,\"is false\")"
   ]
  },
  {
   "cell_type": "code",
   "execution_count": 20,
   "metadata": {},
   "outputs": [
    {
     "data": {
      "text/plain": [
       "Semnan    660521\n",
       "Name: EState, dtype: int64"
      ]
     },
     "execution_count": 20,
     "metadata": {},
     "output_type": "execute_result"
    }
   ],
   "source": [
    "#The valid values for EState should be Semnan in this dataset\n",
    "\n",
    "df.EState.value_counts()"
   ]
  },
  {
   "cell_type": "markdown",
   "metadata": {},
   "source": [
    "# Completeness Checking"
   ]
  },
  {
   "cell_type": "code",
   "execution_count": 21,
   "metadata": {},
   "outputs": [],
   "source": [
    "df.replace('',np.nan,inplace=True)"
   ]
  },
  {
   "cell_type": "code",
   "execution_count": 22,
   "metadata": {},
   "outputs": [
    {
     "name": "stdout",
     "output_type": "stream",
     "text": [
      "ID ------> 1.0\n",
      "Uniquecode ------> 1.0\n",
      "SenderName ------> 0.9999969720871857\n",
      "senderPcode ------> 0.9890419835251264\n",
      "SenderAddress ------> 1.0\n",
      "SenderMobile ------> 0.06467318980017289\n",
      "ReceiverMobile ------> 0.04986064031272284\n",
      "ReceiverName ------> 0.9999984860435929\n",
      "ReceiverAddress ------> 0.9999984860435929\n",
      "receiverPcode ------> 0.9569733589091036\n",
      "DestType ------> 1.0\n",
      "SourceCode ------> 1.0\n",
      "DestCode ------> 1.0\n",
      "GContractID ------> 1.0\n",
      "LContractID ------> 1.0\n",
      "ServiceType ------> 1.0\n",
      "ReceiptDate ------> 1.0\n",
      "ReceiptTime ------> 1.0\n",
      "CreateDate ------> 1.0\n",
      "senderSSN ------> 0.9175105712006129\n",
      "receiverSSN ------> 0.848955597172535\n",
      "PostNodeCode ------> 1.0\n",
      "EState ------> 1.0\n",
      "CityName ------> 1.0\n"
     ]
    }
   ],
   "source": [
    "# calculating Completeness for each column\n",
    "for i in df.columns:\n",
    "    A = df[i].notnull().sum()\n",
    "    B = len(df[i])\n",
    "    completeness=A/B\n",
    "    \n",
    "    print(i,'------>',completeness)\n",
    "    "
   ]
  },
  {
   "cell_type": "code",
   "execution_count": 23,
   "metadata": {},
   "outputs": [
    {
     "name": "stdout",
     "output_type": "stream",
     "text": [
      "completeness ------> 0.9130803714037858\n"
     ]
    }
   ],
   "source": [
    "# calculating Completeness for dataset\n",
    "for i in df.columns:\n",
    "    A=A+df[i].notnull().sum()\n",
    "    B=B+df[i].isnull().sum()+df[i].notnull().sum()\n",
    "\n",
    "completeness=A/B\n",
    "print('completeness ------>',completeness)"
   ]
  },
  {
   "cell_type": "markdown",
   "metadata": {},
   "source": [
    "# Cleaning Empty Cells"
   ]
  },
  {
   "cell_type": "code",
   "execution_count": 24,
   "metadata": {},
   "outputs": [],
   "source": [
    "df['senderPcode'].fillna(3600000000, inplace = True)"
   ]
  },
  {
   "cell_type": "code",
   "execution_count": 25,
   "metadata": {},
   "outputs": [],
   "source": [
    "#df.dropna(inplace = True)"
   ]
  },
  {
   "cell_type": "code",
   "execution_count": 26,
   "metadata": {},
   "outputs": [],
   "source": [
    "#filling the NaN's with first value of group\n",
    "\n",
    "df['senderSSN'] = df['senderSSN'].fillna(df.groupby('SenderName')['senderSSN'].transform('first'))\n",
    "df['receiverSSN'] = df['receiverSSN'].fillna(df.groupby('ReceiverName')['receiverSSN'].transform('first'))\n",
    "df['SenderMobile'] = df['SenderMobile'].fillna(df.groupby('SenderName')['SenderMobile'].transform('first'))\n",
    "df['ReceiverMobile'] = df['ReceiverMobile'].fillna(df.groupby('ReceiverName')['ReceiverMobile'].transform('first'))"
   ]
  },
  {
   "cell_type": "markdown",
   "metadata": {},
   "source": [
    "# Removing Duplicate Rows"
   ]
  },
  {
   "cell_type": "code",
   "execution_count": 27,
   "metadata": {},
   "outputs": [],
   "source": [
    "df.drop_duplicates(inplace=True)"
   ]
  },
  {
   "cell_type": "markdown",
   "metadata": {},
   "source": [
    "# Removing Unnecessary Columns"
   ]
  },
  {
   "cell_type": "code",
   "execution_count": 28,
   "metadata": {},
   "outputs": [],
   "source": [
    "drop_columns = ['Uniquecode','SenderName','EState','SenderMobile','ReceiverMobile','ReceiverName','SenderAddress','ReceiverAddress']\n",
    "df.drop(drop_columns, inplace=True, axis=1)"
   ]
  },
  {
   "cell_type": "code",
   "execution_count": 31,
   "metadata": {},
   "outputs": [],
   "source": [
    "df.dropna(inplace = True)"
   ]
  },
  {
   "cell_type": "code",
   "execution_count": 32,
   "metadata": {},
   "outputs": [
    {
     "name": "stdout",
     "output_type": "stream",
     "text": [
      "<class 'pandas.core.frame.DataFrame'>\n",
      "Int64Index: 583727 entries, 0 to 660520\n",
      "Data columns (total 16 columns):\n",
      " #   Column         Non-Null Count   Dtype \n",
      "---  ------         --------------   ----- \n",
      " 0   ID             583727 non-null  int64 \n",
      " 1   senderPcode    583727 non-null  object\n",
      " 2   receiverPcode  583727 non-null  object\n",
      " 3   DestType       583727 non-null  int64 \n",
      " 4   SourceCode     583727 non-null  int64 \n",
      " 5   DestCode       583727 non-null  int64 \n",
      " 6   GContractID    583727 non-null  int64 \n",
      " 7   LContractID    583727 non-null  int64 \n",
      " 8   ServiceType    583727 non-null  int64 \n",
      " 9   ReceiptDate    583727 non-null  object\n",
      " 10  ReceiptTime    583727 non-null  object\n",
      " 11  CreateDate     583727 non-null  object\n",
      " 12  senderSSN      583727 non-null  object\n",
      " 13  receiverSSN    583727 non-null  object\n",
      " 14  PostNodeCode   583727 non-null  int64 \n",
      " 15  CityName       583727 non-null  object\n",
      "dtypes: int64(8), object(8)\n",
      "memory usage: 75.7+ MB\n"
     ]
    }
   ],
   "source": [
    "df.info()"
   ]
  },
  {
   "cell_type": "code",
   "execution_count": null,
   "metadata": {},
   "outputs": [],
   "source": []
  }
 ],
 "metadata": {
  "kernelspec": {
   "display_name": "Python 3 (ipykernel)",
   "language": "python",
   "name": "python3"
  },
  "language_info": {
   "codemirror_mode": {
    "name": "ipython",
    "version": 3
   },
   "file_extension": ".py",
   "mimetype": "text/x-python",
   "name": "python",
   "nbconvert_exporter": "python",
   "pygments_lexer": "ipython3",
   "version": "3.9.7"
  }
 },
 "nbformat": 4,
 "nbformat_minor": 2
}
